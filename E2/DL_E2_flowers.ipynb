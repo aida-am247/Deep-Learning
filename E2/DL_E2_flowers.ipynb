{
  "nbformat": 4,
  "nbformat_minor": 0,
  "metadata": {
    "colab": {
      "name": "DL_E2_flowers.ipynb",
      "provenance": [],
      "collapsed_sections": [],
      "authorship_tag": "ABX9TyPh3OG7dfXjb7M5iQvKkP0K",
      "include_colab_link": true
    },
    "kernelspec": {
      "name": "python3",
      "display_name": "Python 3"
    },
    "accelerator": "GPU"
  },
  "cells": [
    {
      "cell_type": "markdown",
      "metadata": {
        "id": "view-in-github",
        "colab_type": "text"
      },
      "source": [
        "<a href=\"https://colab.research.google.com/github/aida-am247/Deep-Learning/blob/master/E2/DL_E2_flowers.ipynb\" target=\"_parent\"><img src=\"https://colab.research.google.com/assets/colab-badge.svg\" alt=\"Open In Colab\"/></a>"
      ]
    },
    {
      "cell_type": "code",
      "metadata": {
        "id": "dKrMOyd06CYX"
      },
      "source": [
        "import tensorflow as tf\n",
        "from keras import Input\n",
        "from keras.layers import Dense, MaxPooling2D, Conv2D, Flatten, Dropout\n",
        "from keras.preprocessing.image import ImageDataGenerator"
      ],
      "execution_count": 29,
      "outputs": []
    },
    {
      "cell_type": "code",
      "metadata": {
        "id": "-98FLS04571m"
      },
      "source": [
        "flowers_root = tf.keras.utils.get_file(\n",
        "    'flower_photos',\n",
        "    'https://storage.googleapis.com/download.tensorflow.org/example_images/flower_photos.tgz',\n",
        "    untar=True)"
      ],
      "execution_count": 30,
      "outputs": []
    },
    {
      "cell_type": "code",
      "metadata": {
        "id": "-4uz4HQh7evf",
        "outputId": "ca10756d-d9ac-401e-a97b-1f51ac6f93e9",
        "colab": {
          "base_uri": "https://localhost:8080/",
          "height": 34
        }
      },
      "source": [
        "train_gen = ImageDataGenerator(rescale=1./255)\n",
        "train_imgs = train_gen.flow_from_directory(flowers_root, target_size = (64,64))"
      ],
      "execution_count": 31,
      "outputs": [
        {
          "output_type": "stream",
          "text": [
            "Found 3670 images belonging to 5 classes.\n"
          ],
          "name": "stdout"
        }
      ]
    },
    {
      "cell_type": "code",
      "metadata": {
        "id": "4S6aSxMT-IF8"
      },
      "source": [
        "inputs = Input(shape=(64, 64, 3))\n",
        "x = Conv2D(32, (2,2), activation='relu')(inputs)\n",
        "x = MaxPooling2D((2,2))(x)\n",
        "x = Conv2D(64, (2,2), activation='relu')(x)\n",
        "x = MaxPooling2D((2,2))(x)\n",
        "x = Flatten()(x)\n",
        "outputs = Dense(5, activation='softmax')(x)\n",
        "model = keras.Model(inputs, outputs)"
      ],
      "execution_count": 32,
      "outputs": []
    },
    {
      "cell_type": "code",
      "metadata": {
        "id": "ajP4UlntADhD"
      },
      "source": [
        "model.compile(loss='categorical_crossentropy', optimizer='Adam', metrics=['acc'])"
      ],
      "execution_count": 33,
      "outputs": []
    },
    {
      "cell_type": "code",
      "metadata": {
        "id": "FvW_xiOhAh37",
        "outputId": "286b76b6-e16f-4a55-c14d-5792a9e12143",
        "colab": {
          "base_uri": "https://localhost:8080/",
          "height": 322
        }
      },
      "source": [
        "model.fit(train_imgs, epochs=8)"
      ],
      "execution_count": 34,
      "outputs": [
        {
          "output_type": "stream",
          "text": [
            "Epoch 1/8\n",
            "115/115 [==============================] - 9s 81ms/step - loss: 1.2580 - acc: 0.4553\n",
            "Epoch 2/8\n",
            "115/115 [==============================] - 9s 82ms/step - loss: 1.0079 - acc: 0.6027\n",
            "Epoch 3/8\n",
            "115/115 [==============================] - 9s 82ms/step - loss: 0.8899 - acc: 0.6545\n",
            "Epoch 4/8\n",
            "115/115 [==============================] - 9s 82ms/step - loss: 0.7859 - acc: 0.7071\n",
            "Epoch 5/8\n",
            "115/115 [==============================] - 10s 83ms/step - loss: 0.6868 - acc: 0.7466\n",
            "Epoch 6/8\n",
            "115/115 [==============================] - 9s 81ms/step - loss: 0.6054 - acc: 0.7861\n",
            "Epoch 7/8\n",
            "115/115 [==============================] - 9s 81ms/step - loss: 0.5092 - acc: 0.8188\n",
            "Epoch 8/8\n",
            "115/115 [==============================] - 10s 84ms/step - loss: 0.4162 - acc: 0.8635\n"
          ],
          "name": "stdout"
        },
        {
          "output_type": "execute_result",
          "data": {
            "text/plain": [
              "<tensorflow.python.keras.callbacks.History at 0x7ff04c3b30b8>"
            ]
          },
          "metadata": {
            "tags": []
          },
          "execution_count": 34
        }
      ]
    }
  ]
}