{
  "nbformat": 4,
  "nbformat_minor": 0,
  "metadata": {
    "colab": {
      "name": "DL_E1_callback.ipynb",
      "provenance": [],
      "authorship_tag": "ABX9TyPPSSZkJ16XNkAYxJ43f83X",
      "include_colab_link": true
    },
    "kernelspec": {
      "name": "python3",
      "display_name": "Python 3"
    },
    "accelerator": "GPU"
  },
  "cells": [
    {
      "cell_type": "markdown",
      "metadata": {
        "id": "view-in-github",
        "colab_type": "text"
      },
      "source": [
        "<a href=\"https://colab.research.google.com/github/aida-am247/Deep-Learning/blob/master/E1/DL_E1_callback.ipynb\" target=\"_parent\"><img src=\"https://colab.research.google.com/assets/colab-badge.svg\" alt=\"Open In Colab\"/></a>"
      ]
    },
    {
      "cell_type": "code",
      "metadata": {
        "id": "DDXbkMREJeZk",
        "colab_type": "code",
        "colab": {
          "base_uri": "https://localhost:8080/",
          "height": 470
        },
        "outputId": "1a004904-9b1c-4e98-ea45-701b539d3d68"
      },
      "source": [
        "!wget https://raw.githubusercontent.com/Alireza-Akhavan/SRU-deeplearning-workshop/master/dataset.py\n",
        "!mkdir dataset\n",
        "!wget https://github.com/Alireza-Akhavan/SRU-deeplearning-workshop/raw/master/dataset/Data_hoda_full.mat -P dataset"
      ],
      "execution_count": 1,
      "outputs": [
        {
          "output_type": "stream",
          "text": [
            "--2020-09-22 13:50:31--  https://raw.githubusercontent.com/Alireza-Akhavan/SRU-deeplearning-workshop/master/dataset.py\n",
            "Resolving raw.githubusercontent.com (raw.githubusercontent.com)... 151.101.0.133, 151.101.64.133, 151.101.128.133, ...\n",
            "Connecting to raw.githubusercontent.com (raw.githubusercontent.com)|151.101.0.133|:443... connected.\n",
            "HTTP request sent, awaiting response... 200 OK\n",
            "Length: 929 [text/plain]\n",
            "Saving to: ‘dataset.py’\n",
            "\n",
            "dataset.py          100%[===================>]     929  --.-KB/s    in 0s      \n",
            "\n",
            "2020-09-22 13:50:32 (47.1 MB/s) - ‘dataset.py’ saved [929/929]\n",
            "\n",
            "--2020-09-22 13:50:32--  https://github.com/Alireza-Akhavan/SRU-deeplearning-workshop/raw/master/dataset/Data_hoda_full.mat\n",
            "Resolving github.com (github.com)... 140.82.113.3\n",
            "Connecting to github.com (github.com)|140.82.113.3|:443... connected.\n",
            "HTTP request sent, awaiting response... 302 Found\n",
            "Location: https://raw.githubusercontent.com/Alireza-Akhavan/SRU-deeplearning-workshop/master/dataset/Data_hoda_full.mat [following]\n",
            "--2020-09-22 13:50:33--  https://raw.githubusercontent.com/Alireza-Akhavan/SRU-deeplearning-workshop/master/dataset/Data_hoda_full.mat\n",
            "Resolving raw.githubusercontent.com (raw.githubusercontent.com)... 151.101.0.133, 151.101.64.133, 151.101.128.133, ...\n",
            "Connecting to raw.githubusercontent.com (raw.githubusercontent.com)|151.101.0.133|:443... connected.\n",
            "HTTP request sent, awaiting response... 200 OK\n",
            "Length: 3989009 (3.8M) [application/octet-stream]\n",
            "Saving to: ‘dataset/Data_hoda_full.mat’\n",
            "\n",
            "Data_hoda_full.mat  100%[===================>]   3.80M  12.3MB/s    in 0.3s    \n",
            "\n",
            "2020-09-22 13:50:34 (12.3 MB/s) - ‘dataset/Data_hoda_full.mat’ saved [3989009/3989009]\n",
            "\n"
          ],
          "name": "stdout"
        }
      ]
    },
    {
      "cell_type": "code",
      "metadata": {
        "id": "CpcnOTHbEBs-",
        "colab_type": "code",
        "colab": {}
      },
      "source": [
        "import keras\n",
        "from keras.callbacks import Callback\n",
        "from keras.models import Sequential\n",
        "from keras.layers import Flatten, Dense, Conv2D, MaxPooling2D, Dropout\n",
        "import numpy as np\n",
        "from dataset import load_hoda\n",
        "import matplotlib.pyplot as plt"
      ],
      "execution_count": 2,
      "outputs": []
    },
    {
      "cell_type": "code",
      "metadata": {
        "id": "gQFJA6UVFQrj",
        "colab_type": "code",
        "colab": {}
      },
      "source": [
        "class my_callback(Callback):\n",
        "  def on_epoch_end(self, epoch, logs={}):\n",
        "    print(logs)\n",
        "    if logs.get('accuracy') > 0.75:\n",
        "      print(\"\\nReached 75% accuracy so cancelling training!\")\n",
        "      self.model.stop_training = True\n",
        "callback = my_callback()"
      ],
      "execution_count": 3,
      "outputs": []
    },
    {
      "cell_type": "code",
      "metadata": {
        "id": "AIfon_snEj39",
        "colab_type": "code",
        "colab": {}
      },
      "source": [
        "np.random.seed(123)  # for reproducibility\n",
        "\n",
        "# Load pre-shuffled HODA data into train and test sets\n",
        "x_train_original, y_train_original, x_test_original, y_test_original = load_hoda(\n",
        "                                                                        training_sample_size=3500,                                                                      test_sample_size=400,size=28)\n",
        "\n",
        "# Preprocess input data\n",
        "''' 3.1: input data in numpy array format'''\n",
        "x_train = np.array(x_train_original)\n",
        "x_test = np.array(x_test_original)\n",
        "'''3.2 normalize our data values to the range [0, 1]'''\n",
        "x_train = x_train.astype('float32')\n",
        "x_test = x_test.astype('float32')\n",
        "x_train /= 255\n",
        "x_test /= 255\n",
        "\n",
        "# Reshape to original image shape (n x 784)  ==> (n x 28 x 28 x 1)\n",
        "x_train = x_train.reshape(-1,28,28,1)\n",
        "x_test = x_test.reshape(-1,28,28,1)\n",
        "\n",
        "\n",
        "# Preprocess class labels\n",
        "y_train = keras.utils.to_categorical(y_train_original, num_classes=10)\n",
        "y_test = keras.utils.to_categorical(y_test_original, num_classes=10)\n",
        "\n",
        "\n",
        "# test and validation set\n",
        "x_val = x_test[:200]\n",
        "x_test = x_test[200:]\n",
        "y_val = y_test[:200]\n",
        "y_test = y_test[200:]"
      ],
      "execution_count": 4,
      "outputs": []
    },
    {
      "cell_type": "code",
      "metadata": {
        "id": "Gwgl6WhjEplf",
        "colab_type": "code",
        "colab": {}
      },
      "source": [
        "# Define model architecture\n",
        "model = Sequential()\n",
        "model.add(Conv2D(32, (3, 3), activation='relu',\n",
        "                        input_shape=(28, 28, 1)))\n",
        "model.add(MaxPooling2D((2, 2)))\n",
        "model.add(Conv2D(64, (3, 3), activation='relu'))\n",
        "model.add(MaxPooling2D((2, 2)))\n",
        "model.add(Conv2D(64, (3, 3), activation='relu'))\n",
        "model.add(Flatten())\n",
        "model.add(Dense(64, activation='relu'))\n",
        "model.add(Dropout(0.5))\n",
        "model.add(Dense(10, activation='softmax'))\n",
        "\n",
        "\n",
        "# Compile model\n",
        "model.compile(loss='categorical_crossentropy',\n",
        "              optimizer='adam',\n",
        "              metrics=['accuracy'])"
      ],
      "execution_count": 5,
      "outputs": []
    },
    {
      "cell_type": "code",
      "metadata": {
        "id": "DRy6_SxJIfn5",
        "colab_type": "code",
        "colab": {
          "base_uri": "https://localhost:8080/",
          "height": 272
        },
        "outputId": "6cf735b8-00e6-4da7-a848-f798905b98c7"
      },
      "source": [
        "# Fit model on training data\n",
        "history = model.fit(x_train, y_train,\n",
        "          epochs=200, batch_size=256, validation_data = (x_val, y_val), callbacks=[callback])"
      ],
      "execution_count": 6,
      "outputs": [
        {
          "output_type": "stream",
          "text": [
            "Epoch 1/200\n",
            "14/14 [==============================] - ETA: 0s - loss: 2.0474 - accuracy: 0.3377{'loss': 2.0473930835723877, 'accuracy': 0.337714284658432, 'val_loss': 1.385056495666504, 'val_accuracy': 0.7850000262260437}\n",
            "14/14 [==============================] - 1s 40ms/step - loss: 2.0474 - accuracy: 0.3377 - val_loss: 1.3851 - val_accuracy: 0.7850\n",
            "Epoch 2/200\n",
            "10/14 [====================>.........] - ETA: 0s - loss: 1.3137 - accuracy: 0.5668{'loss': 1.2248724699020386, 'accuracy': 0.6000000238418579, 'val_loss': 0.5975795984268188, 'val_accuracy': 0.8299999833106995}\n",
            "14/14 [==============================] - 0s 13ms/step - loss: 1.2249 - accuracy: 0.6000 - val_loss: 0.5976 - val_accuracy: 0.8300\n",
            "Epoch 3/200\n",
            "11/14 [======================>.......] - ETA: 0s - loss: 0.8175 - accuracy: 0.7337{'loss': 0.8034322261810303, 'accuracy': 0.7365714311599731, 'val_loss': 0.4013129770755768, 'val_accuracy': 0.8799999952316284}\n",
            "14/14 [==============================] - 0s 13ms/step - loss: 0.8034 - accuracy: 0.7366 - val_loss: 0.4013 - val_accuracy: 0.8800\n",
            "Epoch 4/200\n",
            "11/14 [======================>.......] - ETA: 0s - loss: 0.6376 - accuracy: 0.7944{'loss': 0.6287561655044556, 'accuracy': 0.7991428375244141, 'val_loss': 0.32034769654273987, 'val_accuracy': 0.8799999952316284}\n",
            "\n",
            "Reached 75% accuracy so cancelling training!\n",
            "14/14 [==============================] - 0s 12ms/step - loss: 0.6288 - accuracy: 0.7991 - val_loss: 0.3203 - val_accuracy: 0.8800\n"
          ],
          "name": "stdout"
        }
      ]
    }
  ]
}