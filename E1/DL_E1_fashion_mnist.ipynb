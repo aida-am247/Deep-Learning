{
  "nbformat": 4,
  "nbformat_minor": 0,
  "metadata": {
    "colab": {
      "name": "DL_E1_fashion_mnist.ipynb",
      "provenance": [],
      "collapsed_sections": [],
      "authorship_tag": "ABX9TyPHfbqbMfZSztYWMvfueWQv",
      "include_colab_link": true
    },
    "kernelspec": {
      "name": "python3",
      "display_name": "Python 3"
    }
  },
  "cells": [
    {
      "cell_type": "markdown",
      "metadata": {
        "id": "view-in-github",
        "colab_type": "text"
      },
      "source": [
        "<a href=\"https://colab.research.google.com/github/aida-am247/Deep-Learning/blob/master/E1/DL_E1_fashion_mnist.ipynb\" target=\"_parent\"><img src=\"https://colab.research.google.com/assets/colab-badge.svg\" alt=\"Open In Colab\"/></a>"
      ]
    },
    {
      "cell_type": "code",
      "metadata": {
        "id": "oWErxwOeCsHN",
        "colab_type": "code",
        "colab": {}
      },
      "source": [
        "import keras\n",
        "from keras.models import Sequential\n",
        "from keras.layers import Dense, Activation, Flatten, Dropout\n",
        "from keras.layers import Conv2D, MaxPooling2D\n",
        "from keras.datasets import cifar10\n",
        "import numpy as np\n",
        "import matplotlib.pyplot as plt\n",
        "%matplotlib inline"
      ],
      "execution_count": null,
      "outputs": []
    },
    {
      "cell_type": "code",
      "metadata": {
        "id": "oD2siUmyC1Ui",
        "colab_type": "code",
        "colab": {}
      },
      "source": [
        "fashion_mnist = keras.datasets.fashion_mnist\n",
        "(x_train, y_train), (x_test, y_test) = fashion_mnist.load_data()"
      ],
      "execution_count": null,
      "outputs": []
    },
    {
      "cell_type": "code",
      "metadata": {
        "id": "r2-CqVtB1kfD",
        "colab_type": "code",
        "colab": {
          "base_uri": "https://localhost:8080/",
          "height": 34
        },
        "outputId": "a5c06504-8d50-4bc6-e945-68f488019f1e"
      },
      "source": [
        "num_of_classes = len(set(y_train))\n",
        "print(num_of_classes)"
      ],
      "execution_count": null,
      "outputs": [
        {
          "output_type": "stream",
          "text": [
            "10\n"
          ],
          "name": "stdout"
        }
      ]
    },
    {
      "cell_type": "code",
      "metadata": {
        "id": "Y8rFuVYcC4Wj",
        "colab_type": "code",
        "colab": {
          "base_uri": "https://localhost:8080/",
          "height": 282
        },
        "outputId": "078c55da-6449-48e9-c59f-328ec6277caa"
      },
      "source": [
        "plt.imshow(x_train[44])"
      ],
      "execution_count": null,
      "outputs": [
        {
          "output_type": "execute_result",
          "data": {
            "text/plain": [
              "<matplotlib.image.AxesImage at 0x7fcec3b80240>"
            ]
          },
          "metadata": {
            "tags": []
          },
          "execution_count": 109
        },
        {
          "output_type": "display_data",
          "data": {
            "image/png": "[encoded data removed]",
            "text/plain": [
              "<Figure size 432x288 with 1 Axes>"
            ]
          },
          "metadata": {
            "tags": [],
            "needs_background": "light"
          }
        }
      ]
    },
    {
      "cell_type": "code",
      "metadata": {
        "id": "w9iL8IZFC6j5",
        "colab_type": "code",
        "colab": {}
      },
      "source": [
        "x_train = x_train.astype(\"float32\")/255\n",
        "x_test = x_test.astype(\"float32\")/255"
      ],
      "execution_count": null,
      "outputs": []
    },
    {
      "cell_type": "code",
      "metadata": {
        "id": "A2I1el5P24ky",
        "colab_type": "code",
        "colab": {
          "base_uri": "https://localhost:8080/",
          "height": 34
        },
        "outputId": "e1bcd8cd-8136-435a-e0f8-9af9dc57c9d6"
      },
      "source": [
        "x_train[2].shape"
      ],
      "execution_count": null,
      "outputs": [
        {
          "output_type": "execute_result",
          "data": {
            "text/plain": [
              "(28, 28)"
            ]
          },
          "metadata": {
            "tags": []
          },
          "execution_count": 111
        }
      ]
    },
    {
      "cell_type": "code",
      "metadata": {
        "id": "z9EVOcMmDDL-",
        "colab_type": "code",
        "colab": {
          "base_uri": "https://localhost:8080/",
          "height": 34
        },
        "outputId": "76156122-2b1e-4849-9e50-0e594cdda67d"
      },
      "source": [
        "y_train[0:10]"
      ],
      "execution_count": null,
      "outputs": [
        {
          "output_type": "execute_result",
          "data": {
            "text/plain": [
              "array([9, 0, 0, 3, 0, 2, 7, 2, 5, 5], dtype=uint8)"
            ]
          },
          "metadata": {
            "tags": []
          },
          "execution_count": 112
        }
      ]
    },
    {
      "cell_type": "code",
      "metadata": {
        "id": "OcGiB_dKDHBk",
        "colab_type": "code",
        "colab": {}
      },
      "source": [
        "y_train = keras.utils.to_categorical(y_train)\n",
        "y_test = keras.utils.to_categorical(y_test)"
      ],
      "execution_count": null,
      "outputs": []
    },
    {
      "cell_type": "code",
      "metadata": {
        "id": "d46uiM6dDIdO",
        "colab_type": "code",
        "colab": {
          "base_uri": "https://localhost:8080/",
          "height": 185
        },
        "outputId": "dcede7e7-d2ea-43d3-82c4-6a5aab1ff87e"
      },
      "source": [
        "y_train[0:10]"
      ],
      "execution_count": null,
      "outputs": [
        {
          "output_type": "execute_result",
          "data": {
            "text/plain": [
              "array([[0., 0., 0., 0., 0., 0., 0., 0., 0., 1.],\n",
              "       [1., 0., 0., 0., 0., 0., 0., 0., 0., 0.],\n",
              "       [1., 0., 0., 0., 0., 0., 0., 0., 0., 0.],\n",
              "       [0., 0., 0., 1., 0., 0., 0., 0., 0., 0.],\n",
              "       [1., 0., 0., 0., 0., 0., 0., 0., 0., 0.],\n",
              "       [0., 0., 1., 0., 0., 0., 0., 0., 0., 0.],\n",
              "       [0., 0., 0., 0., 0., 0., 0., 1., 0., 0.],\n",
              "       [0., 0., 1., 0., 0., 0., 0., 0., 0., 0.],\n",
              "       [0., 0., 0., 0., 0., 1., 0., 0., 0., 0.],\n",
              "       [0., 0., 0., 0., 0., 1., 0., 0., 0., 0.]], dtype=float32)"
            ]
          },
          "metadata": {
            "tags": []
          },
          "execution_count": 114
        }
      ]
    },
    {
      "cell_type": "code",
      "metadata": {
        "id": "Kks_DEmVDJxa",
        "colab_type": "code",
        "colab": {}
      },
      "source": [
        "model = Sequential()\n",
        "model.add(Flatten(input_shape=(28, 28)))\n",
        "model.add(Dense(32, activation='relu'))\n",
        "model.add(Dense(64, activation='relu'))\n",
        "model.add(Dense(128, activation='relu'))\n",
        "model.add(Dropout(0.7))\n",
        "model.add(Dense(10, activation='softmax'))"
      ],
      "execution_count": null,
      "outputs": []
    },
    {
      "cell_type": "code",
      "metadata": {
        "id": "soDcaGxWDUw3",
        "colab_type": "code",
        "colab": {}
      },
      "source": [
        "model.compile(loss='categorical_crossentropy', optimizer='Adam', metrics=['acc'])"
      ],
      "execution_count": null,
      "outputs": []
    },
    {
      "cell_type": "code",
      "metadata": {
        "id": "qtHhC6AiDZn7",
        "colab_type": "code",
        "colab": {
          "base_uri": "https://localhost:8080/",
          "height": 874
        },
        "outputId": "93f5c75e-9154-4894-b6f0-11fc8c73f960"
      },
      "source": [
        "model.fit(x_train, y_train, batch_size=128, epochs=25, validation_data=(x_test, y_test))"
      ],
      "execution_count": null,
      "outputs": [
        {
          "output_type": "stream",
          "text": [
            "Epoch 1/25\n",
            "469/469 [==============================] - 2s 4ms/step - loss: 0.8376 - acc: 0.7016 - val_loss: 0.4908 - val_acc: 0.8205\n",
            "Epoch 2/25\n",
            "469/469 [==============================] - 2s 4ms/step - loss: 0.5130 - acc: 0.8245 - val_loss: 0.4339 - val_acc: 0.8440\n",
            "Epoch 3/25\n",
            "469/469 [==============================] - 2s 4ms/step - loss: 0.4586 - acc: 0.8421 - val_loss: 0.4271 - val_acc: 0.8459\n",
            "Epoch 4/25\n",
            "469/469 [==============================] - 2s 4ms/step - loss: 0.4304 - acc: 0.8518 - val_loss: 0.4113 - val_acc: 0.8506\n",
            "Epoch 5/25\n",
            "469/469 [==============================] - 2s 4ms/step - loss: 0.4119 - acc: 0.8587 - val_loss: 0.3998 - val_acc: 0.8572\n",
            "Epoch 6/25\n",
            "469/469 [==============================] - 2s 4ms/step - loss: 0.3896 - acc: 0.8665 - val_loss: 0.3863 - val_acc: 0.8610\n",
            "Epoch 7/25\n",
            "469/469 [==============================] - 2s 4ms/step - loss: 0.3811 - acc: 0.8679 - val_loss: 0.3828 - val_acc: 0.8619\n",
            "Epoch 8/25\n",
            "469/469 [==============================] - 2s 4ms/step - loss: 0.3689 - acc: 0.8713 - val_loss: 0.3832 - val_acc: 0.8633\n",
            "Epoch 9/25\n",
            "469/469 [==============================] - 2s 4ms/step - loss: 0.3586 - acc: 0.8747 - val_loss: 0.3980 - val_acc: 0.8575\n",
            "Epoch 10/25\n",
            "469/469 [==============================] - 2s 4ms/step - loss: 0.3486 - acc: 0.8790 - val_loss: 0.3834 - val_acc: 0.8678\n",
            "Epoch 11/25\n",
            "469/469 [==============================] - 2s 4ms/step - loss: 0.3427 - acc: 0.8798 - val_loss: 0.3801 - val_acc: 0.8691\n",
            "Epoch 12/25\n",
            "469/469 [==============================] - 2s 4ms/step - loss: 0.3337 - acc: 0.8826 - val_loss: 0.3963 - val_acc: 0.8619\n",
            "Epoch 13/25\n",
            "469/469 [==============================] - 2s 4ms/step - loss: 0.3283 - acc: 0.8854 - val_loss: 0.3780 - val_acc: 0.8646\n",
            "Epoch 14/25\n",
            "469/469 [==============================] - 2s 4ms/step - loss: 0.3256 - acc: 0.8846 - val_loss: 0.3686 - val_acc: 0.8718\n",
            "Epoch 15/25\n",
            "469/469 [==============================] - 2s 4ms/step - loss: 0.3181 - acc: 0.8883 - val_loss: 0.3784 - val_acc: 0.8679\n",
            "Epoch 16/25\n",
            "469/469 [==============================] - 2s 4ms/step - loss: 0.3104 - acc: 0.8900 - val_loss: 0.3648 - val_acc: 0.8697\n",
            "Epoch 17/25\n",
            "469/469 [==============================] - 2s 4ms/step - loss: 0.3085 - acc: 0.8896 - val_loss: 0.3681 - val_acc: 0.8772\n",
            "Epoch 18/25\n",
            "469/469 [==============================] - 2s 4ms/step - loss: 0.3038 - acc: 0.8906 - val_loss: 0.3696 - val_acc: 0.8753\n",
            "Epoch 19/25\n",
            "469/469 [==============================] - 2s 4ms/step - loss: 0.2975 - acc: 0.8939 - val_loss: 0.3609 - val_acc: 0.8781\n",
            "Epoch 20/25\n",
            "469/469 [==============================] - 2s 4ms/step - loss: 0.2921 - acc: 0.8953 - val_loss: 0.3900 - val_acc: 0.8704\n",
            "Epoch 21/25\n",
            "469/469 [==============================] - 2s 4ms/step - loss: 0.2889 - acc: 0.8972 - val_loss: 0.3841 - val_acc: 0.8708\n",
            "Epoch 22/25\n",
            "469/469 [==============================] - 2s 4ms/step - loss: 0.2839 - acc: 0.8969 - val_loss: 0.3824 - val_acc: 0.8742\n",
            "Epoch 23/25\n",
            "469/469 [==============================] - 2s 4ms/step - loss: 0.2835 - acc: 0.8971 - val_loss: 0.4047 - val_acc: 0.8668\n",
            "Epoch 24/25\n",
            "469/469 [==============================] - 2s 4ms/step - loss: 0.2795 - acc: 0.9003 - val_loss: 0.3688 - val_acc: 0.8777\n",
            "Epoch 25/25\n",
            "469/469 [==============================] - 2s 4ms/step - loss: 0.2741 - acc: 0.9018 - val_loss: 0.3801 - val_acc: 0.8748\n"
          ],
          "name": "stdout"
        },
        {
          "output_type": "execute_result",
          "data": {
            "text/plain": [
              "<tensorflow.python.keras.callbacks.History at 0x7fcec3dadf28>"
            ]
          },
          "metadata": {
            "tags": []
          },
          "execution_count": 117
        }
      ]
    }
  ]
}