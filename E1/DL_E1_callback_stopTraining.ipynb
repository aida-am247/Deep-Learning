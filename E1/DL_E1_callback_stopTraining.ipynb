{
  "nbformat": 4,
  "nbformat_minor": 0,
  "metadata": {
    "colab": {
      "name": "DL_E1_callback.ipynb",
      "provenance": [],
      "authorship_tag": "ABX9TyP5ny3DBlPbN7tOn0+iotCX",
      "include_colab_link": true
    },
    "kernelspec": {
      "name": "python3",
      "display_name": "Python 3"
    },
    "accelerator": "GPU"
  },
  "cells": [
    {
      "cell_type": "markdown",
      "metadata": {
        "id": "view-in-github",
        "colab_type": "text"
      },
      "source": [
        "<a href=\"https://colab.research.google.com/github/aida-am247/Deep-Learning/blob/master/E1/DL_E1_callback_stopTraining.ipynb\" target=\"_parent\"><img src=\"https://colab.research.google.com/assets/colab-badge.svg\" alt=\"Open In Colab\"/></a>"
      ]
    },
    {
      "cell_type": "code",
      "metadata": {
        "id": "DDXbkMREJeZk",
        "colab_type": "code",
        "colab": {
          "base_uri": "https://localhost:8080/",
          "height": 470
        },
        "outputId": "892a4cae-9078-46c5-ef08-872a1a398085"
      },
      "source": [
        "!wget https://raw.githubusercontent.com/Alireza-Akhavan/SRU-deeplearning-workshop/master/dataset.py\n",
        "!mkdir dataset\n",
        "!wget https://github.com/Alireza-Akhavan/SRU-deeplearning-workshop/raw/master/dataset/Data_hoda_full.mat -P dataset"
      ],
      "execution_count": 24,
      "outputs": [
        {
          "output_type": "stream",
          "text": [
            "--2020-09-22 04:50:26--  https://raw.githubusercontent.com/Alireza-Akhavan/SRU-deeplearning-workshop/master/dataset.py\n",
            "Resolving raw.githubusercontent.com (raw.githubusercontent.com)... 151.101.0.133, 151.101.64.133, 151.101.128.133, ...\n",
            "Connecting to raw.githubusercontent.com (raw.githubusercontent.com)|151.101.0.133|:443... connected.\n",
            "HTTP request sent, awaiting response... 200 OK\n",
            "Length: 929 [text/plain]\n",
            "Saving to: ‘dataset.py’\n",
            "\n",
            "\rdataset.py            0%[                    ]       0  --.-KB/s               \rdataset.py          100%[===================>]     929  --.-KB/s    in 0s      \n",
            "\n",
            "2020-09-22 04:50:26 (51.3 MB/s) - ‘dataset.py’ saved [929/929]\n",
            "\n",
            "--2020-09-22 04:50:27--  https://github.com/Alireza-Akhavan/SRU-deeplearning-workshop/raw/master/dataset/Data_hoda_full.mat\n",
            "Resolving github.com (github.com)... 140.82.113.3\n",
            "Connecting to github.com (github.com)|140.82.113.3|:443... connected.\n",
            "HTTP request sent, awaiting response... 302 Found\n",
            "Location: https://raw.githubusercontent.com/Alireza-Akhavan/SRU-deeplearning-workshop/master/dataset/Data_hoda_full.mat [following]\n",
            "--2020-09-22 04:50:27--  https://raw.githubusercontent.com/Alireza-Akhavan/SRU-deeplearning-workshop/master/dataset/Data_hoda_full.mat\n",
            "Resolving raw.githubusercontent.com (raw.githubusercontent.com)... 151.101.0.133, 151.101.64.133, 151.101.128.133, ...\n",
            "Connecting to raw.githubusercontent.com (raw.githubusercontent.com)|151.101.0.133|:443... connected.\n",
            "HTTP request sent, awaiting response... 200 OK\n",
            "Length: 3989009 (3.8M) [application/octet-stream]\n",
            "Saving to: ‘dataset/Data_hoda_full.mat’\n",
            "\n",
            "Data_hoda_full.mat  100%[===================>]   3.80M  20.8MB/s    in 0.2s    \n",
            "\n",
            "2020-09-22 04:50:28 (20.8 MB/s) - ‘dataset/Data_hoda_full.mat’ saved [3989009/3989009]\n",
            "\n"
          ],
          "name": "stdout"
        }
      ]
    },
    {
      "cell_type": "code",
      "metadata": {
        "id": "CpcnOTHbEBs-",
        "colab_type": "code",
        "colab": {}
      },
      "source": [
        "import keras\n",
        "from keras.callbacks import Callback\n",
        "from keras.models import Sequential\n",
        "from keras.layers import Flatten, Dense, Conv2D, MaxPooling2D, Dropout\n",
        "import numpy as np\n",
        "from dataset import load_hoda\n",
        "import matplotlib.pyplot as plt"
      ],
      "execution_count": 38,
      "outputs": []
    },
    {
      "cell_type": "code",
      "metadata": {
        "id": "gQFJA6UVFQrj",
        "colab_type": "code",
        "colab": {}
      },
      "source": [
        "class my_callback(Callback):\n",
        "  def on_epoch_end(self, epoch, logs={}):\n",
        "    print(logs)\n",
        "    if logs.get('accuracy') > 0.75:\n",
        "      print(\"\\nReached 75% accuracy so cancelling training!\")\n",
        "      self.model.stop_training = True\n",
        "callback = my_callback()"
      ],
      "execution_count": 39,
      "outputs": []
    },
    {
      "cell_type": "code",
      "metadata": {
        "id": "AIfon_snEj39",
        "colab_type": "code",
        "colab": {}
      },
      "source": [
        "mnist = tf.keras.datasets.fashion_mnist\n",
        "(x_train, y_train),(x_test, y_test) = mnist.load_data()\n",
        "x_train, x_test = x_train / 255.0, x_test / 255.0\n",
        "\n",
        "np.random.seed(123)  # for reproducibility\n",
        "\n",
        "# Load pre-shuffled HODA data into train and test sets\n",
        "x_train_original, y_train_original, x_test_original, y_test_original = load_hoda(\n",
        "                                                                        training_sample_size=3500,                                                                      test_sample_size=400,size=28)\n",
        "\n",
        "# Preprocess input data\n",
        "''' 3.1: input data in numpy array format'''\n",
        "x_train = np.array(x_train_original)\n",
        "x_test = np.array(x_test_original)\n",
        "'''3.2 normalize our data values to the range [0, 1]'''\n",
        "x_train = x_train.astype('float32')\n",
        "x_test = x_test.astype('float32')\n",
        "x_train /= 255\n",
        "x_test /= 255\n",
        "\n",
        "# Reshape to original image shape (n x 784)  ==> (n x 28 x 28 x 1)\n",
        "x_train = x_train.reshape(-1,28,28,1)\n",
        "x_test = x_test.reshape(-1,28,28,1)\n",
        "\n",
        "\n",
        "# Preprocess class labels\n",
        "y_train = keras.utils.to_categorical(y_train_original, num_classes=10)\n",
        "y_test = keras.utils.to_categorical(y_test_original, num_classes=10)\n",
        "\n",
        "\n",
        "# test and validation set\n",
        "x_val = x_test[:200]\n",
        "x_test = x_test[200:]\n",
        "y_val = y_test[:200]\n",
        "y_test = y_test[200:]"
      ],
      "execution_count": 40,
      "outputs": []
    },
    {
      "cell_type": "code",
      "metadata": {
        "id": "Gwgl6WhjEplf",
        "colab_type": "code",
        "colab": {}
      },
      "source": [
        "# Define model architecture\n",
        "model = Sequential()\n",
        "model.add(Conv2D(32, (3, 3), activation='relu',\n",
        "                        input_shape=(28, 28, 1)))\n",
        "model.add(MaxPooling2D((2, 2)))\n",
        "model.add(Conv2D(64, (3, 3), activation='relu'))\n",
        "model.add(MaxPooling2D((2, 2)))\n",
        "model.add(Conv2D(64, (3, 3), activation='relu'))\n",
        "model.add(Flatten())\n",
        "model.add(Dense(64, activation='relu'))\n",
        "model.add(Dropout(0.5))\n",
        "model.add(Dense(10, activation='softmax'))\n",
        "\n",
        "\n",
        "# Compile model\n",
        "model.compile(loss='categorical_crossentropy',\n",
        "              optimizer='adam',\n",
        "              metrics=['accuracy'])"
      ],
      "execution_count": 41,
      "outputs": []
    },
    {
      "cell_type": "code",
      "metadata": {
        "id": "DRy6_SxJIfn5",
        "colab_type": "code",
        "colab": {
          "base_uri": "https://localhost:8080/",
          "height": 272
        },
        "outputId": "435190b5-3eaf-4485-eaa6-e709ca2ef039"
      },
      "source": [
        "# Fit model on training data\n",
        "history = model.fit(x_train, y_train,\n",
        "          epochs=200, batch_size=256, validation_data = (x_val, y_val), callbacks=[callback])"
      ],
      "execution_count": 42,
      "outputs": [
        {
          "output_type": "stream",
          "text": [
            "Epoch 1/200\n",
            "13/14 [==========================>...] - ETA: 0s - loss: 2.0720 - accuracy: 0.2987{'loss': 2.0527706146240234, 'accuracy': 0.30314284563064575, 'val_loss': 1.3655799627304077, 'val_accuracy': 0.7099999785423279}\n",
            "14/14 [==============================] - 0s 18ms/step - loss: 2.0528 - accuracy: 0.3031 - val_loss: 1.3656 - val_accuracy: 0.7100\n",
            "Epoch 2/200\n",
            "14/14 [==============================] - ETA: 0s - loss: 1.1969 - accuracy: 0.5949{'loss': 1.1968920230865479, 'accuracy': 0.5948571562767029, 'val_loss': 0.6064717769622803, 'val_accuracy': 0.8149999976158142}\n",
            "14/14 [==============================] - 0s 9ms/step - loss: 1.1969 - accuracy: 0.5949 - val_loss: 0.6065 - val_accuracy: 0.8150\n",
            "Epoch 3/200\n",
            "14/14 [==============================] - ETA: 0s - loss: 0.7949 - accuracy: 0.7377{'loss': 0.794894814491272, 'accuracy': 0.7377142906188965, 'val_loss': 0.37888336181640625, 'val_accuracy': 0.8849999904632568}\n",
            "14/14 [==============================] - 0s 9ms/step - loss: 0.7949 - accuracy: 0.7377 - val_loss: 0.3789 - val_accuracy: 0.8850\n",
            "Epoch 4/200\n",
            "14/14 [==============================] - ETA: 0s - loss: 0.5995 - accuracy: 0.7986{'loss': 0.5995050072669983, 'accuracy': 0.7985714077949524, 'val_loss': 0.2681453227996826, 'val_accuracy': 0.9150000214576721}\n",
            "\n",
            "Reached 75% accuracy so cancelling training!\n",
            "14/14 [==============================] - 0s 9ms/step - loss: 0.5995 - accuracy: 0.7986 - val_loss: 0.2681 - val_accuracy: 0.9150\n"
          ],
          "name": "stdout"
        }
      ]
    }
  ]
}