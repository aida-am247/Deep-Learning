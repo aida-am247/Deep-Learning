{
  "nbformat": 4,
  "nbformat_minor": 0,
  "metadata": {
    "colab": {
      "name": "DL_E1_cifar.ipynb",
      "provenance": [],
      "collapsed_sections": [],
      "authorship_tag": "ABX9TyP4U8lK1CsPZCbkSxBxNXQa",
      "include_colab_link": true
    },
    "kernelspec": {
      "name": "python3",
      "display_name": "Python 3"
    },
    "accelerator": "GPU"
  },
  "cells": [
    {
      "cell_type": "markdown",
      "metadata": {
        "id": "view-in-github",
        "colab_type": "text"
      },
      "source": [
        "<a href=\"https://colab.research.google.com/github/aida-am247/Deep-Learning/blob/master/E1/DL_E1_cifar.ipynb\" target=\"_parent\"><img src=\"https://colab.research.google.com/assets/colab-badge.svg\" alt=\"Open In Colab\"/></a>"
      ]
    },
    {
      "cell_type": "code",
      "metadata": {
        "id": "oWErxwOeCsHN",
        "colab_type": "code",
        "colab": {}
      },
      "source": [
        "import keras\n",
        "from keras.models import Sequential\n",
        "from keras.layers import Dense, Activation, Flatten, Dropout\n",
        "from keras.layers import Conv2D, MaxPooling2D\n",
        "from keras.datasets import cifar10\n",
        "import numpy as np\n",
        "import matplotlib.pyplot as plt\n",
        "%matplotlib inline"
      ],
      "execution_count": 1,
      "outputs": []
    },
    {
      "cell_type": "code",
      "metadata": {
        "id": "oD2siUmyC1Ui",
        "colab_type": "code",
        "colab": {}
      },
      "source": [
        "(x_train, y_train), (x_test, y_test) = cifar10.load_data()"
      ],
      "execution_count": 9,
      "outputs": []
    },
    {
      "cell_type": "code",
      "metadata": {
        "id": "Y8rFuVYcC4Wj",
        "colab_type": "code",
        "colab": {
          "base_uri": "https://localhost:8080/",
          "height": 283
        },
        "outputId": "d0fac288-4dde-4615-ca3e-93d62998b4ee"
      },
      "source": [
        "plt.imshow(x_train[7])"
      ],
      "execution_count": 10,
      "outputs": [
        {
          "output_type": "execute_result",
          "data": {
            "text/plain": [
              "<matplotlib.image.AxesImage at 0x7fca97a5a048>"
            ]
          },
          "metadata": {
            "tags": []
          },
          "execution_count": 10
        },
        {
          "output_type": "display_data",
          "data": {
            "image/png": "[encoded data removed]",
            "text/plain": [
              "<Figure size 432x288 with 1 Axes>"
            ]
          },
          "metadata": {
            "tags": [],
            "needs_background": "light"
          }
        }
      ]
    },
    {
      "cell_type": "code",
      "metadata": {
        "id": "w9iL8IZFC6j5",
        "colab_type": "code",
        "colab": {}
      },
      "source": [
        "x_train = x_train.astype(\"float32\")/255\n",
        "x_test = x_test.astype(\"float32\")/255"
      ],
      "execution_count": 11,
      "outputs": []
    },
    {
      "cell_type": "code",
      "metadata": {
        "id": "z9EVOcMmDDL-",
        "colab_type": "code",
        "colab": {
          "base_uri": "https://localhost:8080/",
          "height": 185
        },
        "outputId": "a9dae719-44e8-45bb-b078-fa2219328875"
      },
      "source": [
        "y_train[0:10]"
      ],
      "execution_count": 12,
      "outputs": [
        {
          "output_type": "execute_result",
          "data": {
            "text/plain": [
              "array([[6],\n",
              "       [9],\n",
              "       [9],\n",
              "       [4],\n",
              "       [1],\n",
              "       [1],\n",
              "       [2],\n",
              "       [7],\n",
              "       [8],\n",
              "       [3]], dtype=uint8)"
            ]
          },
          "metadata": {
            "tags": []
          },
          "execution_count": 12
        }
      ]
    },
    {
      "cell_type": "code",
      "metadata": {
        "id": "OcGiB_dKDHBk",
        "colab_type": "code",
        "colab": {}
      },
      "source": [
        "y_train = keras.utils.to_categorical(y_train)\n",
        "y_test = keras.utils.to_categorical(y_test)"
      ],
      "execution_count": 13,
      "outputs": []
    },
    {
      "cell_type": "code",
      "metadata": {
        "id": "d46uiM6dDIdO",
        "colab_type": "code",
        "colab": {
          "base_uri": "https://localhost:8080/",
          "height": 185
        },
        "outputId": "af703c5a-ec72-4c14-ff77-7e5b8c65528a"
      },
      "source": [
        "y_train[0:10]"
      ],
      "execution_count": 14,
      "outputs": [
        {
          "output_type": "execute_result",
          "data": {
            "text/plain": [
              "array([[0., 0., 0., 0., 0., 0., 1., 0., 0., 0.],\n",
              "       [0., 0., 0., 0., 0., 0., 0., 0., 0., 1.],\n",
              "       [0., 0., 0., 0., 0., 0., 0., 0., 0., 1.],\n",
              "       [0., 0., 0., 0., 1., 0., 0., 0., 0., 0.],\n",
              "       [0., 1., 0., 0., 0., 0., 0., 0., 0., 0.],\n",
              "       [0., 1., 0., 0., 0., 0., 0., 0., 0., 0.],\n",
              "       [0., 0., 1., 0., 0., 0., 0., 0., 0., 0.],\n",
              "       [0., 0., 0., 0., 0., 0., 0., 1., 0., 0.],\n",
              "       [0., 0., 0., 0., 0., 0., 0., 0., 1., 0.],\n",
              "       [0., 0., 0., 1., 0., 0., 0., 0., 0., 0.]], dtype=float32)"
            ]
          },
          "metadata": {
            "tags": []
          },
          "execution_count": 14
        }
      ]
    },
    {
      "cell_type": "code",
      "metadata": {
        "id": "Kks_DEmVDJxa",
        "colab_type": "code",
        "colab": {}
      },
      "source": [
        "model = Sequential()\n",
        "model.add(Conv2D(32, (3,3), activation='relu', input_shape=(32,32,3)))\n",
        "model.add(MaxPooling2D((2,2)))\n",
        "model.add(Conv2D(32, (3,3), activation='relu'))\n",
        "model.add(MaxPooling2D((2,2)))\n",
        "model.add(Conv2D(64, (3,3), activation='relu'))\n",
        "model.add(MaxPooling2D((2,2)))\n",
        "model.add(Flatten())\n",
        "model.add(Dropout(0.5))\n",
        "model.add(Dense(10, activation='softmax'))\n"
      ],
      "execution_count": 15,
      "outputs": []
    },
    {
      "cell_type": "code",
      "metadata": {
        "id": "soDcaGxWDUw3",
        "colab_type": "code",
        "colab": {}
      },
      "source": [
        "opt_adam = keras.optimizers.Adam(lr=0.001,decay=1e-6)\n",
        "model.compile(loss='categorical_crossentropy', optimizer=opt_adam, metrics=['acc'])"
      ],
      "execution_count": 19,
      "outputs": []
    },
    {
      "cell_type": "code",
      "metadata": {
        "id": "qtHhC6AiDZn7",
        "colab_type": "code",
        "colab": {
          "base_uri": "https://localhost:8080/",
          "height": 894
        },
        "outputId": "5662a4d4-1558-42a3-9241-7e55631fd268"
      },
      "source": [
        "model.fit(x_train, y_train, batch_size=128, epochs=25, validation_data=(x_test, y_test))"
      ],
      "execution_count": 20,
      "outputs": [
        {
          "output_type": "stream",
          "text": [
            "Epoch 1/25\n",
            "391/391 [==============================] - 2s 6ms/step - loss: 0.8514 - acc: 0.7028 - val_loss: 0.8153 - val_acc: 0.7227\n",
            "Epoch 2/25\n",
            "391/391 [==============================] - 2s 5ms/step - loss: 0.8348 - acc: 0.7083 - val_loss: 0.8135 - val_acc: 0.7222\n",
            "Epoch 3/25\n",
            "391/391 [==============================] - 2s 5ms/step - loss: 0.8315 - acc: 0.7087 - val_loss: 0.8379 - val_acc: 0.7113\n",
            "Epoch 4/25\n",
            "391/391 [==============================] - 2s 5ms/step - loss: 0.8210 - acc: 0.7143 - val_loss: 0.8286 - val_acc: 0.7146\n",
            "Epoch 5/25\n",
            "391/391 [==============================] - 2s 5ms/step - loss: 0.8167 - acc: 0.7127 - val_loss: 0.8221 - val_acc: 0.7214\n",
            "Epoch 6/25\n",
            "391/391 [==============================] - 2s 5ms/step - loss: 0.8099 - acc: 0.7131 - val_loss: 0.8185 - val_acc: 0.7195\n",
            "Epoch 7/25\n",
            "391/391 [==============================] - 2s 5ms/step - loss: 0.8049 - acc: 0.7169 - val_loss: 0.8289 - val_acc: 0.7110\n",
            "Epoch 8/25\n",
            "391/391 [==============================] - 2s 5ms/step - loss: 0.8018 - acc: 0.7179 - val_loss: 0.8303 - val_acc: 0.7156\n",
            "Epoch 9/25\n",
            "391/391 [==============================] - 2s 5ms/step - loss: 0.7958 - acc: 0.7208 - val_loss: 0.7979 - val_acc: 0.7306\n",
            "Epoch 10/25\n",
            "391/391 [==============================] - 2s 5ms/step - loss: 0.7906 - acc: 0.7218 - val_loss: 0.7962 - val_acc: 0.7271\n",
            "Epoch 11/25\n",
            "391/391 [==============================] - 2s 5ms/step - loss: 0.7853 - acc: 0.7227 - val_loss: 0.8027 - val_acc: 0.7291\n",
            "Epoch 12/25\n",
            "391/391 [==============================] - 2s 5ms/step - loss: 0.7807 - acc: 0.7243 - val_loss: 0.8004 - val_acc: 0.7274\n",
            "Epoch 13/25\n",
            "391/391 [==============================] - 2s 5ms/step - loss: 0.7779 - acc: 0.7267 - val_loss: 0.8051 - val_acc: 0.7263\n",
            "Epoch 14/25\n",
            "391/391 [==============================] - 2s 5ms/step - loss: 0.7747 - acc: 0.7277 - val_loss: 0.7930 - val_acc: 0.7251\n",
            "Epoch 15/25\n",
            "391/391 [==============================] - 2s 5ms/step - loss: 0.7719 - acc: 0.7289 - val_loss: 0.7851 - val_acc: 0.7313\n",
            "Epoch 16/25\n",
            "391/391 [==============================] - 2s 5ms/step - loss: 0.7624 - acc: 0.7297 - val_loss: 0.7843 - val_acc: 0.7336\n",
            "Epoch 17/25\n",
            "391/391 [==============================] - 2s 5ms/step - loss: 0.7691 - acc: 0.7288 - val_loss: 0.7936 - val_acc: 0.7292\n",
            "Epoch 18/25\n",
            "391/391 [==============================] - 2s 5ms/step - loss: 0.7637 - acc: 0.7314 - val_loss: 0.7830 - val_acc: 0.7353\n",
            "Epoch 19/25\n",
            "391/391 [==============================] - 2s 5ms/step - loss: 0.7588 - acc: 0.7316 - val_loss: 0.7891 - val_acc: 0.7339\n",
            "Epoch 20/25\n",
            "391/391 [==============================] - 2s 5ms/step - loss: 0.7600 - acc: 0.7330 - val_loss: 0.7820 - val_acc: 0.7351\n",
            "Epoch 21/25\n",
            "391/391 [==============================] - 2s 5ms/step - loss: 0.7474 - acc: 0.7358 - val_loss: 0.7873 - val_acc: 0.7328\n",
            "Epoch 22/25\n",
            "391/391 [==============================] - 2s 5ms/step - loss: 0.7468 - acc: 0.7337 - val_loss: 0.7643 - val_acc: 0.7389\n",
            "Epoch 23/25\n",
            "391/391 [==============================] - 2s 5ms/step - loss: 0.7522 - acc: 0.7347 - val_loss: 0.7805 - val_acc: 0.7325\n",
            "Epoch 24/25\n",
            "391/391 [==============================] - 2s 5ms/step - loss: 0.7467 - acc: 0.7354 - val_loss: 0.7797 - val_acc: 0.7347\n",
            "Epoch 25/25\n",
            "391/391 [==============================] - 2s 5ms/step - loss: 0.7403 - acc: 0.7387 - val_loss: 0.7758 - val_acc: 0.7366\n"
          ],
          "name": "stdout"
        },
        {
          "output_type": "execute_result",
          "data": {
            "text/plain": [
              "<tensorflow.python.keras.callbacks.History at 0x7fca3a3f0550>"
            ]
          },
          "metadata": {
            "tags": []
          },
          "execution_count": 20
        }
      ]
    }
  ]
}